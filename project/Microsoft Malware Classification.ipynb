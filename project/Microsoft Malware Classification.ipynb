{
 "cells": [
  {
   "cell_type": "markdown",
   "metadata": {},
   "source": [
    "# Final Project - Security Analytics\n",
    "## Microsoft Malware Classfication\n",
    "\n",
    "### Authors: \n",
    "* Kandarp Khandwala (kkhandw1) and \n",
    "* Antara Sargam (asargam1)\n",
    "\n",
    "\n",
    "### Data: \n",
    "* Set of known malware files representing a mix of 9 different families. Each malware file has an Id, a 20 character hash value uniquely identifying the file, and a Class, an integer representing one of 9 family names to which the malware may belong \n",
    "        Ramnit\n",
    "        Lollipop\n",
    "        Kelihos_ver3\n",
    "        Vundo\n",
    "        Simda\n",
    "        Tracur\n",
    "        Kelihos_ver1\n",
    "        Obfuscator.ACY\n",
    "        Gatak\n",
    "        \n",
    "\n",
    "### Tasks: \n",
    "* Develop the best mechanism for classifying files into their respective family affiliations.\n",
    "\n",
    "### Files\n",
    "* train.7z - the raw data for the data set\n",
    "* trainLabels.csv - the class labels associated with the training set"
   ]
  },
  {
   "cell_type": "code",
   "execution_count": 47,
   "metadata": {},
   "outputs": [],
   "source": [
    "import matplotlib.pyplot as plt\n",
    "from os import listdir\n",
    "from os.path import isfile, join\n",
    "import zipfile\n",
    "from io import BytesIO\n",
    "import lief \n",
    "import hashlib\n",
    "\n",
    "import pandas as pd\n",
    "from sklearn.metrics import log_loss, confusion_matrix\n",
    "from sklearn.ensemble import RandomForestClassifier, ExtraTreesClassifier\n",
    "from sklearn.model_selection import train_test_split, cross_val_score, cross_val_predict\n",
    "from sklearn.feature_extraction.text import TfidfVectorizer, HashingVectorizer\n",
    "from sklearn.feature_extraction import FeatureHasher\n",
    "\n",
    "import numpy as np\n",
    "import os\n",
    "import pickle\n",
    "import io\n",
    "import re\n",
    "import glob"
   ]
  },
  {
   "cell_type": "code",
   "execution_count": 2,
   "metadata": {},
   "outputs": [],
   "source": [
    "datadir = '/datadrive/'\n",
    "traindir = 'train/'\n",
    "asmext = '.asm'\n",
    "byext = '.bytes'"
   ]
  },
  {
   "cell_type": "code",
   "execution_count": 3,
   "metadata": {},
   "outputs": [],
   "source": [
    "dt = np.dtype([('Id', 'a30'), ('Class', 'u2')])\n",
    "data = np.loadtxt(\"trainLabels.csv\", skiprows=1, delimiter = \",\", dtype=dt)"
   ]
  },
  {
   "cell_type": "code",
   "execution_count": 4,
   "metadata": {},
   "outputs": [
    {
     "data": {
      "text/plain": [
       "array([(b'\"01kcPWA9K2BOxQeS5Rju\"', 1), (b'\"04EjIdbPV5e1XroFOpiN\"', 1),\n",
       "       (b'\"05EeG39MTRrI6VY21DPd\"', 1), (b'\"05rJTUWYAKNegBk2wE8X\"', 1),\n",
       "       (b'\"0AnoOZDNbPXIr2MRBSCJ\"', 1), (b'\"0AwWs42SUQ19mI7eDcTC\"', 1),\n",
       "       (b'\"0cH8YeO15ZywEhPrJvmj\"', 1), (b'\"0DNVFKwYlcjO7bTfJ5p1\"', 1),\n",
       "       (b'\"0DqUX5rkg3IbMY6BLGCE\"', 1), (b'\"0eaNKwluUmkYdIvZ923c\"', 1),\n",
       "       (b'\"0fHVZKeTE6iRb1PIQ4au\"', 1), (b'\"0G4hwobLuAzvl1PWYfmd\"', 1),\n",
       "       (b'\"0gkj92oIleU4SYiCWpaM\"', 1), (b'\"0H63jydvIahOVqgx5Kfo\"', 1),\n",
       "       (b'\"jLr0lyA1TeugxId7Fk2S\"', 2), (b'\"JLrOfGem93RVtBySioNx\"', 2),\n",
       "       (b'\"jMHviQAUXJqEbokeVZYg\"', 2), (b'\"JmRCrDBGEzfgISdvNsF7\"', 2),\n",
       "       (b'\"JMSXw23bN7gKfCeWAxVY\"', 2), (b'\"jn4ALqJUE9u8TPRyd6t5\"', 2),\n",
       "       (b'\"JnCS8Oh4fUmciFgN5IZ3\"', 2), (b'\"JNfrKZYIEmpVDBzn1kvL\"', 2),\n",
       "       (b'\"jnKkElPsxcIaUFhQb8Jd\"', 2), (b'\"JNP8y5lG7OuK4oq9xhaI\"', 2),\n",
       "       (b'\"JNrlKDpRFXhP6wcQjMna\"', 2), (b'\"JNtLaKBbDMqwTAyCXWzQ\"', 2),\n",
       "       (b'\"JnysZFLMzgC4rQDtW7pB\"', 2), (b'\"jO3ktp4CTZ8Voy2cHJUB\"', 2),\n",
       "       (b'\"JO58MAdl0WiuFk9zhspH\"', 2), (b'\"0jAopX629OwEH8WPkzVU\"', 3),\n",
       "       (b'\"0JAzwGUKORhFQWr3o1dN\"', 3), (b'\"0JBNEWmdi7GptrK5qYD9\"', 3),\n",
       "       (b'\"0JPAX13cjxewaTh6tRCi\"', 3), (b'\"0K4sTCLtrIJ5SinQbe7u\"', 3),\n",
       "       (b'\"0K6yBUcTw3qjtNo4ZQpY\"', 3), (b'\"0KyDiQb1whgaSrmlx58J\"', 3),\n",
       "       (b'\"0kzRDUmBLHGd4YPj7hO6\"', 3), (b'\"0LZkc7qeS39TUtVHuJB1\"', 3),\n",
       "       (b'\"0m94tRnhgpsAUuY1L8KC\"', 3), (b'\"0mcWyK6unLRGV8Hfr97Y\"', 3),\n",
       "       (b'\"0meUjiuJvODcf3k9z4Iy\"', 3), (b'\"0mfwTlekXE1poYAnqMRO\"', 3),\n",
       "       (b'\"0mlhuKGpCc6OB4zwrbLy\"', 3), (b'\"0MpJYhdbf8T7InoqcXr1\"', 3),\n",
       "       (b'\"0qPGt4cRVk9NoiJgubf2\"', 4), (b'\"1bL4yiwCUvSOg7tBJudf\"', 4),\n",
       "       (b'\"1eOaAY4fpV38LIdhxl95\"', 4), (b'\"1FacC02JPfxSdXeD7MEw\"', 4),\n",
       "       (b'\"1gx83bLB4PSsYIKCTlZt\"', 4), (b'\"1PQFYMSBLAO9TmKk2Zhj\"', 4),\n",
       "       (b'\"1S9ui2XqltCJAOGUPw7v\"', 4), (b'\"1yC7BzWHgtI2FibhQ0km\"', 4),\n",
       "       (b'\"2CfJMa5HIn6D1d9EXbpe\"', 4), (b'\"2g4C03AeqoZR6ctiF1Qr\"', 4),\n",
       "       (b'\"2icwOdb5xCshnIvMXfy4\"', 4), (b'\"2mYSX6J9Dd5lkpLuNMc8\"', 4),\n",
       "       (b'\"2nNeZpSmwzACDiljoXM0\"', 4), (b'\"2qSURceVYgQEhOFAdPXC\"', 4),\n",
       "       (b'\"2SRWXLQomgJyliq3G6BM\"', 4), (b'\"3m8kb5ILPrHcMC1o9Nht\"', 5),\n",
       "       (b'\"3zZpqyclD9B2v5Qas18m\"', 5), (b'\"40KRbGeQZ8PwcUgt5joa\"', 5),\n",
       "       (b'\"4UTMdcZkxzLvwygO8EuK\"', 5), (b'\"5tMCNKDogQ2x7zwUbpcZ\"', 5),\n",
       "       (b'\"7cyYPthi5KmvXEs2NkRj\"', 5), (b'\"8wm2jYBqV30okUMfuDCd\"', 5),\n",
       "       (b'\"AeCXyFRcU2SsgvVTpMzi\"', 5), (b'\"asKPnzUXjShMc0Tl6Wge\"', 5),\n",
       "       (b'\"b59dlNEacoYUAyeR4Ipq\"', 5), (b'\"B6dzEY3kKIn8me9McfGg\"', 5),\n",
       "       (b'\"bGPHZFpAL3N957064wzj\"', 5), (b'\"BKXtxeYlLsprabEWIQhn\"', 5),\n",
       "       (b'\"cIojVJGQOtrL0S1ApeDY\"', 5), (b'\"CRrAOvzk452LVZIGMWsq\"', 5),\n",
       "       (b'\"4kuxDJlwWHMi5KX3SVQq\"', 6), (b'\"4KWOXqY1owuJMjUShbfr\"', 6),\n",
       "       (b'\"4L1CmOTeP97DlJRjf6BA\"', 6), (b'\"4nEqldNaweD7j806tbhk\"', 6),\n",
       "       (b'\"4pHdNFbAuJGnROwV5YED\"', 6), (b'\"4PIo3NbSDfGxFc8gQ9M0\"', 6),\n",
       "       (b'\"4qvPNwKnEOg8R1m6z3ZY\"', 6), (b'\"4TbLDIiV9qtauMfs56QX\"', 6),\n",
       "       (b'\"4ToSq9HwhD3mBVuKJgdF\"', 6), (b'\"4U9dtRMoQrbgeB2iSYZE\"', 6),\n",
       "       (b'\"4xre6uX7BbkCW0LtSQdn\"', 6), (b'\"51qVyQZvcFaz89onAOBS\"', 6),\n",
       "       (b'\"54qJObilEHdFuSCyfhZo\"', 6), (b'\"57U0FfqsXtBAj9ONKPWn\"', 6),\n",
       "       (b'\"59P7Kv8cMforuZUpVQnY\"', 6), (b'\"09LXtWxm1EbK5uVqcQS3\"', 7),\n",
       "       (b'\"0ACDbR5M3ZhBJajygTuf\"', 7), (b'\"0b5LqcWix3J4fGIEhXQu\"', 7),\n",
       "       (b'\"0BIdbVDEgmPwjYF4xzir\"', 7), (b'\"0eN9lyQfwmTVk7C2ZoYp\"', 7),\n",
       "       (b'\"0hZEqJ5eMVjU21HAG7Ii\"', 7), (b'\"0KgE6ksUeytoHfl2cT4r\"', 7),\n",
       "       (b'\"0LAXajqhQy7po16dw8Tx\"', 7), (b'\"0M7aSiE9csDzkmfKheVt\"', 7),\n",
       "       (b'\"0PlfqyKM1JtYZx2me5FU\"', 7), (b'\"0xfjbVBPYX1pSt4rdWOe\"', 7),\n",
       "       (b'\"0YJRabHQ1reDxN3yjUCd\"', 7), (b'\"18S9URJgMWqua2TZevsh\"', 7),\n",
       "       (b'\"18te652nLyCi3IrZqMOJ\"', 7), (b'\"1FAxSngsym35phwROGl0\"', 7),\n",
       "       (b'\"01SuzwMJEIXsK7A8dQbl\"', 8), (b'\"04hSzLv5s2TDYPlcgpHB\"', 8),\n",
       "       (b'\"0AguvpOCcaf2myVDYFGb\"', 8), (b'\"0aKlH1MRxLmv34QGhEJP\"', 8),\n",
       "       (b'\"0aVNj3qFgEZI6Akf4Kuv\"', 8), (b'\"0aVxkvmflEizUBG2rMT4\"', 8),\n",
       "       (b'\"0BFIPv1rO83whtpMYyAs\"', 8), (b'\"0BY2iPso3bEmudlUzpfq\"', 8),\n",
       "       (b'\"0C4aVbN58O1nAigFJt9z\"', 8), (b'\"0cTu2bkefOAJqIhYUWFK\"', 8),\n",
       "       (b'\"0fhnXI9ESr4jgWmkiaTe\"', 8), (b'\"0giIqhw6e4mrHYzKFl8T\"', 8),\n",
       "       (b'\"0H5OFklQm7wAPfE1qaJY\"', 8), (b'\"0hAlkjTR1Q6PewMczavb\"', 8),\n",
       "       (b'\"0HKFs3AXTt1IrOl52eVu\"', 8), (b'\"3os9hay0Y8v4u5HkLzVp\"', 9),\n",
       "       (b'\"3Oy1Wo7T0QxYILi8mlVg\"', 9), (b'\"3PFdwRiY9seVIa7DBkly\"', 9),\n",
       "       (b'\"3Phx7vzOcFAjZLtXSnmN\"', 9), (b'\"3pNQ4kCvMSceHP7YzqKa\"', 9),\n",
       "       (b'\"3pQoC5gV4ljNfdXHTEx2\"', 9), (b'\"3rf7KJiPd8hIZ645wBVN\"', 9),\n",
       "       (b'\"3Rpwdu5AN4l2KkeoYHED\"', 9), (b'\"3t9mSnZWI7eduOTLGgov\"', 9),\n",
       "       (b'\"3vsl9KYdAo1tibP5DRSX\"', 9), (b'\"3wauD2jYkTUn7izLcvV8\"', 9),\n",
       "       (b'\"3wBXsMlxyZQodCTzbDtf\"', 9), (b'\"3X1RZPbneqjVdBU5St4x\"', 9),\n",
       "       (b'\"3XRWQKuC2iEaFpoLBh9z\"', 9), (b'\"40Mg1k2UlPuQcsEotIej\"', 9)],\n",
       "      dtype=[('Id', 'S30'), ('Class', '<u2')])"
      ]
     },
     "execution_count": 4,
     "metadata": {},
     "output_type": "execute_result"
    }
   ],
   "source": [
    "data"
   ]
  },
  {
   "cell_type": "code",
   "execution_count": 5,
   "metadata": {},
   "outputs": [],
   "source": [
    "X = np.zeros((data.shape[0], 4))\n",
    "y = data['Class']"
   ]
  },
  {
   "cell_type": "markdown",
   "metadata": {},
   "source": [
    "# Feature Extraction"
   ]
  },
  {
   "cell_type": "markdown",
   "metadata": {},
   "source": [
    "### Feature 1 - File size"
   ]
  },
  {
   "cell_type": "code",
   "execution_count": 6,
   "metadata": {},
   "outputs": [],
   "source": [
    "for i, (Id, Class) in enumerate(data):\n",
    "    X[i][0] = os.path.getsize(datadir + traindir + Id[1:-1].decode(\"utf-8\") + asmext)\n",
    "    X[i][1] = os.path.getsize(datadir + traindir + Id[1:-1].decode(\"utf-8\") + byext)"
   ]
  },
  {
   "cell_type": "code",
   "execution_count": 7,
   "metadata": {},
   "outputs": [
    {
     "data": {
      "image/png": "[encoded data removed]",
      "text/plain": [
       "<Figure size 432x288 with 1 Axes>"
      ]
     },
     "metadata": {
      "needs_background": "light"
     },
     "output_type": "display_data"
    }
   ],
   "source": [
    "plt.axis((0,1.6*10**8, 0, 2*10**7))\n",
    "plt.scatter(X[:,0], X[:,1], c=y, alpha=0.5)\n",
    "plt.show()"
   ]
  },
  {
   "cell_type": "markdown",
   "metadata": {},
   "source": [
    "### Feature 2 - Compressed File Size"
   ]
  },
  {
   "cell_type": "code",
   "execution_count": 8,
   "metadata": {},
   "outputs": [],
   "source": [
    "def getcompressedsize(fpath):\n",
    "    inMemoryOutputFile = BytesIO()\n",
    "    zf = zipfile.ZipFile(inMemoryOutputFile, 'w') \n",
    "    zf.write(fpath, compress_type=zipfile.ZIP_DEFLATED)\n",
    "    s = float(zf.infolist()[0].compress_size)\n",
    "    zf.close()\n",
    "    return s"
   ]
  },
  {
   "cell_type": "code",
   "execution_count": 9,
   "metadata": {},
   "outputs": [
    {
     "name": "stdout",
     "output_type": "stream",
     "text": [
      "Processed file 0\n",
      "Processed file 1\n",
      "Processed file 2\n",
      "Processed file 3\n",
      "Processed file 4\n",
      "Processed file 5\n",
      "Processed file 6\n",
      "Processed file 7\n",
      "Processed file 8\n",
      "Processed file 9\n",
      "Processed file 10\n",
      "Processed file 11\n",
      "Processed file 12\n",
      "Processed file 13\n",
      "Processed file 14\n",
      "Processed file 15\n",
      "Processed file 16\n",
      "Processed file 17\n",
      "Processed file 18\n",
      "Processed file 19\n",
      "Processed file 20\n",
      "Processed file 21\n",
      "Processed file 22\n",
      "Processed file 23\n",
      "Processed file 24\n",
      "Processed file 25\n",
      "Processed file 26\n",
      "Processed file 27\n",
      "Processed file 28\n",
      "Processed file 29\n",
      "Processed file 30\n",
      "Processed file 31\n",
      "Processed file 32\n",
      "Processed file 33\n",
      "Processed file 34\n",
      "Processed file 35\n",
      "Processed file 36\n",
      "Processed file 37\n",
      "Processed file 38\n",
      "Processed file 39\n",
      "Processed file 40\n",
      "Processed file 41\n",
      "Processed file 42\n",
      "Processed file 43\n",
      "Processed file 44\n",
      "Processed file 45\n",
      "Processed file 46\n",
      "Processed file 47\n",
      "Processed file 48\n",
      "Processed file 49\n",
      "Processed file 50\n",
      "Processed file 51\n",
      "Processed file 52\n",
      "Processed file 53\n",
      "Processed file 54\n",
      "Processed file 55\n",
      "Processed file 56\n",
      "Processed file 57\n",
      "Processed file 58\n",
      "Processed file 59\n",
      "Processed file 60\n",
      "Processed file 61\n",
      "Processed file 62\n",
      "Processed file 63\n",
      "Processed file 64\n",
      "Processed file 65\n",
      "Processed file 66\n",
      "Processed file 67\n",
      "Processed file 68\n",
      "Processed file 69\n",
      "Processed file 70\n",
      "Processed file 71\n",
      "Processed file 72\n",
      "Processed file 73\n",
      "Processed file 74\n",
      "Processed file 75\n",
      "Processed file 76\n",
      "Processed file 77\n",
      "Processed file 78\n",
      "Processed file 79\n",
      "Processed file 80\n",
      "Processed file 81\n",
      "Processed file 82\n",
      "Processed file 83\n",
      "Processed file 84\n",
      "Processed file 85\n",
      "Processed file 86\n",
      "Processed file 87\n",
      "Processed file 88\n",
      "Processed file 89\n",
      "Processed file 90\n",
      "Processed file 91\n",
      "Processed file 92\n",
      "Processed file 93\n",
      "Processed file 94\n",
      "Processed file 95\n",
      "Processed file 96\n",
      "Processed file 97\n",
      "Processed file 98\n",
      "Processed file 99\n",
      "Processed file 100\n",
      "Processed file 101\n",
      "Processed file 102\n",
      "Processed file 103\n",
      "Processed file 104\n",
      "Processed file 105\n",
      "Processed file 106\n",
      "Processed file 107\n",
      "Processed file 108\n",
      "Processed file 109\n",
      "Processed file 110\n",
      "Processed file 111\n",
      "Processed file 112\n",
      "Processed file 113\n",
      "Processed file 114\n",
      "Processed file 115\n",
      "Processed file 116\n",
      "Processed file 117\n",
      "Processed file 118\n",
      "Processed file 119\n",
      "Processed file 120\n",
      "Processed file 121\n",
      "Processed file 122\n",
      "Processed file 123\n",
      "Processed file 124\n",
      "Processed file 125\n",
      "Processed file 126\n",
      "Processed file 127\n",
      "Processed file 128\n",
      "Processed file 129\n",
      "Processed file 130\n",
      "Processed file 131\n",
      "Processed file 132\n",
      "Processed file 133\n"
     ]
    }
   ],
   "source": [
    "for i, (Id, Class) in enumerate(data):\n",
    "    print(\"Processed file {}\".format(i))\n",
    "    X[i][2] = getcompressedsize(datadir + traindir + Id[1:-1].decode(\"utf-8\") + asmext)\n",
    "    X[i][3] = getcompressedsize(datadir + traindir + Id[1:-1].decode(\"utf-8\") + asmext)"
   ]
  },
  {
   "cell_type": "code",
   "execution_count": 10,
   "metadata": {},
   "outputs": [
    {
     "data": {
      "image/png": "[encoded data removed]",
      "text/plain": [
       "<Figure size 432x288 with 1 Axes>"
      ]
     },
     "metadata": {
      "needs_background": "light"
     },
     "output_type": "display_data"
    }
   ],
   "source": [
    "plt.axis((0,1.6*10**8, 0, 2*10**7))\n",
    "plt.scatter(X[:,2], X[:,3], c=y, alpha=0.5)\n",
    "plt.show()"
   ]
  },
  {
   "cell_type": "markdown",
   "metadata": {},
   "source": [
    "### Feature 3 - TFIDF matrix of the contents of asm files over 2-gram"
   ]
  },
  {
   "cell_type": "code",
   "execution_count": 34,
   "metadata": {},
   "outputs": [],
   "source": [
    "def make_corpus(asm_files):\n",
    "    for i, file in enumerate(asm_files):\n",
    "        print('Processed file {}'.format(i))\n",
    "        yield open(file, 'rb')"
   ]
  },
  {
   "cell_type": "code",
   "execution_count": 41,
   "metadata": {},
   "outputs": [],
   "source": [
    "import string\n",
    "from nltk.corpus import stopwords\n",
    "def text_process(mess):\n",
    "    \"\"\"\n",
    "    Takes in a string of text, then performs the following:\n",
    "    1. Remove all punctuation\n",
    "    2. Remove all stopwords\n",
    "    3. Returns a list of the cleaned text\n",
    "    \"\"\"\n",
    "    # Check characters to see if they are in punctuation\n",
    "    nopunc = [char.decode(\"utf-8\") for char in mess if char.decode(\"utf-8\") not in string.punctuation]\n",
    "\n",
    "    # Join the characters again to form the string.\n",
    "    nopunc = ''.join(nopunc)\n",
    "    \n",
    "    # Now just remove any stopwords\n",
    "    return [word for word in nopunc.split() if word.decode(\"utf-8\").lower() not in stopwords.words('english')]\n"
   ]
  },
  {
   "cell_type": "code",
   "execution_count": 49,
   "metadata": {},
   "outputs": [],
   "source": [
    "asmfiles = []\n",
    "for i, (Id, Class) in enumerate(data):\n",
    "    asmfiles.append(datadir + traindir + Id[1:-1].decode(\"utf-8\") + asmext)\n",
    "\n",
    "hv_transformer = HashingVectorizer(input='file', decode_error='replace',\n",
    "                                      n_features = 10000, stop_words='english',\n",
    "                                      ngram_range=(2, 2))"
   ]
  },
  {
   "cell_type": "code",
   "execution_count": 50,
   "metadata": {},
   "outputs": [],
   "source": [
    "asm_corpus = make_corpus(asmfiles)"
   ]
  },
  {
   "cell_type": "code",
   "execution_count": 51,
   "metadata": {},
   "outputs": [
    {
     "name": "stdout",
     "output_type": "stream",
     "text": [
      "Processed file 0\n",
      "Processed file 1\n",
      "Processed file 2\n",
      "Processed file 3\n",
      "Processed file 4\n",
      "Processed file 5\n",
      "Processed file 6\n",
      "Processed file 7\n",
      "Processed file 8\n",
      "Processed file 9\n",
      "Processed file 10\n",
      "Processed file 11\n",
      "Processed file 12\n",
      "Processed file 13\n",
      "Processed file 14\n",
      "Processed file 15\n",
      "Processed file 16\n",
      "Processed file 17\n",
      "Processed file 18\n",
      "Processed file 19\n",
      "Processed file 20\n",
      "Processed file 21\n",
      "Processed file 22\n",
      "Processed file 23\n",
      "Processed file 24\n",
      "Processed file 25\n",
      "Processed file 26\n",
      "Processed file 27\n",
      "Processed file 28\n",
      "Processed file 29\n",
      "Processed file 30\n",
      "Processed file 31\n",
      "Processed file 32\n",
      "Processed file 33\n",
      "Processed file 34\n",
      "Processed file 35\n",
      "Processed file 36\n",
      "Processed file 37\n",
      "Processed file 38\n",
      "Processed file 39\n",
      "Processed file 40\n",
      "Processed file 41\n",
      "Processed file 42\n",
      "Processed file 43\n",
      "Processed file 44\n",
      "Processed file 45\n",
      "Processed file 46\n",
      "Processed file 47\n",
      "Processed file 48\n",
      "Processed file 49\n",
      "Processed file 50\n",
      "Processed file 51\n",
      "Processed file 52\n",
      "Processed file 53\n",
      "Processed file 54\n",
      "Processed file 55\n",
      "Processed file 56\n",
      "Processed file 57\n",
      "Processed file 58\n",
      "Processed file 59\n",
      "Processed file 60\n",
      "Processed file 61\n",
      "Processed file 62\n",
      "Processed file 63\n",
      "Processed file 64\n",
      "Processed file 65\n",
      "Processed file 66\n",
      "Processed file 67\n",
      "Processed file 68\n",
      "Processed file 69\n",
      "Processed file 70\n",
      "Processed file 71\n",
      "Processed file 72\n",
      "Processed file 73\n",
      "Processed file 74\n",
      "Processed file 75\n",
      "Processed file 76\n",
      "Processed file 77\n",
      "Processed file 78\n",
      "Processed file 79\n",
      "Processed file 80\n",
      "Processed file 81\n",
      "Processed file 82\n",
      "Processed file 83\n",
      "Processed file 84\n",
      "Processed file 85\n",
      "Processed file 86\n",
      "Processed file 87\n",
      "Processed file 88\n",
      "Processed file 89\n",
      "Processed file 90\n",
      "Processed file 91\n",
      "Processed file 92\n",
      "Processed file 93\n",
      "Processed file 94\n",
      "Processed file 95\n",
      "Processed file 96\n",
      "Processed file 97\n",
      "Processed file 98\n",
      "Processed file 99\n",
      "Processed file 100\n",
      "Processed file 101\n",
      "Processed file 102\n",
      "Processed file 103\n",
      "Processed file 104\n",
      "Processed file 105\n",
      "Processed file 106\n",
      "Processed file 107\n",
      "Processed file 108\n",
      "Processed file 109\n",
      "Processed file 110\n",
      "Processed file 111\n",
      "Processed file 112\n",
      "Processed file 113\n",
      "Processed file 114\n",
      "Processed file 115\n",
      "Processed file 116\n",
      "Processed file 117\n",
      "Processed file 118\n",
      "Processed file 119\n",
      "Processed file 120\n",
      "Processed file 121\n",
      "Processed file 122\n",
      "Processed file 123\n",
      "Processed file 124\n",
      "Processed file 125\n",
      "Processed file 126\n",
      "Processed file 127\n",
      "Processed file 128\n",
      "Processed file 129\n",
      "Processed file 130\n",
      "Processed file 131\n",
      "Processed file 132\n",
      "Processed file 133\n"
     ]
    },
    {
     "ename": "AttributeError",
     "evalue": "'HashingVectorizer' object has no attribute 'get_feature_names'",
     "output_type": "error",
     "traceback": [
      "\u001b[0;31m---------------------------------------------------------------------------\u001b[0m",
      "\u001b[0;31mAttributeError\u001b[0m                            Traceback (most recent call last)",
      "\u001b[0;32m<ipython-input-51-20549c842e4d>\u001b[0m in \u001b[0;36m<module>\u001b[0;34m()\u001b[0m\n\u001b[1;32m      1\u001b[0m \u001b[0masm_ngram\u001b[0m \u001b[0;34m=\u001b[0m \u001b[0mhv_transformer\u001b[0m\u001b[0;34m.\u001b[0m\u001b[0mtransform\u001b[0m\u001b[0;34m(\u001b[0m\u001b[0masm_corpus\u001b[0m\u001b[0;34m)\u001b[0m\u001b[0;34m\u001b[0m\u001b[0m\n\u001b[1;32m      2\u001b[0m \u001b[0;34m\u001b[0m\u001b[0m\n\u001b[0;32m----> 3\u001b[0;31m \u001b[0mprint\u001b[0m\u001b[0;34m(\u001b[0m\u001b[0;34m'Sample Feature names: '\u001b[0m\u001b[0;34m,\u001b[0m \u001b[0mhv_transformer\u001b[0m\u001b[0;34m.\u001b[0m\u001b[0mget_feature_names\u001b[0m\u001b[0;34m(\u001b[0m\u001b[0;34m)\u001b[0m\u001b[0;34m[\u001b[0m\u001b[0;34m-\u001b[0m\u001b[0;36m10\u001b[0m\u001b[0;34m:\u001b[0m\u001b[0;34m]\u001b[0m\u001b[0;34m)\u001b[0m\u001b[0;34m\u001b[0m\u001b[0m\n\u001b[0m\u001b[1;32m      4\u001b[0m \u001b[0mprint\u001b[0m\u001b[0;34m(\u001b[0m\u001b[0;34m'Shape of Sparse Matrix: '\u001b[0m\u001b[0;34m,\u001b[0m \u001b[0masm_ngram\u001b[0m\u001b[0;34m.\u001b[0m\u001b[0mshape\u001b[0m\u001b[0;34m)\u001b[0m\u001b[0;34m\u001b[0m\u001b[0m\n\u001b[1;32m      5\u001b[0m \u001b[0mprint\u001b[0m\u001b[0;34m(\u001b[0m\u001b[0;34m'Amount of Non-Zero occurences: '\u001b[0m\u001b[0;34m,\u001b[0m \u001b[0masm_ngram\u001b[0m\u001b[0;34m.\u001b[0m\u001b[0mnnz\u001b[0m\u001b[0;34m)\u001b[0m\u001b[0;34m\u001b[0m\u001b[0m\n",
      "\u001b[0;31mAttributeError\u001b[0m: 'HashingVectorizer' object has no attribute 'get_feature_names'"
     ]
    }
   ],
   "source": [
    "asm_ngram = hv_transformer.transform(asm_corpus)"
   ]
  },
  {
   "cell_type": "code",
   "execution_count": 52,
   "metadata": {},
   "outputs": [
    {
     "name": "stdout",
     "output_type": "stream",
     "text": [
      "Shape of Sparse Matrix:  (134, 10000)\n",
      "Amount of Non-Zero occurences:  1252765\n",
      "Sparsity: 93.49%\n"
     ]
    }
   ],
   "source": [
    "print('Shape of Sparse Matrix: ', asm_ngram.shape)\n",
    "print('Amount of Non-Zero occurences: ', asm_ngram.nnz)\n",
    "print('Sparsity: %.2f%%' % (100.0 * asm_ngram.nnz / (asm_ngram.shape[0] * asm_ngram.shape[1])))"
   ]
  },
  {
   "cell_type": "code",
   "execution_count": 53,
   "metadata": {},
   "outputs": [
    {
     "data": {
      "text/plain": [
       "(134, 10004)"
      ]
     },
     "execution_count": 53,
     "metadata": {},
     "output_type": "execute_result"
    }
   ],
   "source": [
    "X = np.append(X, asm_ngram.toarray(), axis = 1)\n",
    "X.shape"
   ]
  },
  {
   "cell_type": "markdown",
   "metadata": {},
   "source": [
    "### Feature 4 -  String file characteristics: urls, directories, registries, headers, entropy, etc. "
   ]
  },
  {
   "cell_type": "code",
   "execution_count": 54,
   "metadata": {},
   "outputs": [],
   "source": [
    "class FeatureType(object):\n",
    "    ''' Base class from which each feature type may inherit '''\n",
    "\n",
    "    name = ''\n",
    "    dim = 0\n",
    "\n",
    "    def __repr__(self):\n",
    "        return '{}({})'.format(self.name, self.dim)\n",
    "\n",
    "    def raw_features(self, bytez, lief_binary):\n",
    "        ''' Generate a JSON-able representation of the file '''\n",
    "        raise (NotImplemented)\n",
    "\n",
    "    def process_raw_features(self, raw_obj):\n",
    "        ''' Generate a feature vector from the raw features '''\n",
    "        raise (NotImplemented)\n",
    "\n",
    "    def feature_vector(self, bytez, lief_binary):\n",
    "        ''' Directly calculate the feature vector from the sample itself. This should only be implemented differently\n",
    "        if there are significant speedups to be gained from combining the two functions. '''\n",
    "        return self.process_raw_features(self.raw_features(bytez, lief_binary))\n",
    "\n",
    "class StringExtractor(FeatureType):\n",
    "    ''' Extracts strings from raw byte stream '''\n",
    "\n",
    "    name = 'strings'\n",
    "    dim = 1 + 1 + 1 + 96 + 1 + 1 + 1 + 1 + 1\n",
    "\n",
    "    def __init__(self):\n",
    "        super(FeatureType, self).__init__()\n",
    "        # all consecutive runs of 0x20 - 0x7f that are 5+ characters\n",
    "        self._allstrings = re.compile(b'[\\x20-\\x7f]{5,}')\n",
    "        # occurances of the string 'C:\\'.  Not actually extracting the path\n",
    "        self._paths = re.compile(b'c:\\\\\\\\', re.IGNORECASE)\n",
    "        # occurances of http:// or https://.  Not actually extracting the URLs\n",
    "        self._urls = re.compile(b'https?://', re.IGNORECASE)\n",
    "        # occurances of the string prefix HKEY_.  No actually extracting registry names\n",
    "        self._registry = re.compile(b'HKEY_')\n",
    "        # crude evidence of an MZ header (dropper?) somewhere in the byte stream\n",
    "        self._mz = re.compile(b'MZ')\n",
    "\n",
    "    def raw_features(self, bytez, lief_binary):\n",
    "        allstrings = self._allstrings.findall(bytez)\n",
    "        if allstrings:\n",
    "            # statistics about strings:\n",
    "            string_lengths = [len(s) for s in allstrings]\n",
    "            avlength = sum(string_lengths) / len(string_lengths)\n",
    "            # map printable characters 0x20 - 0x7f to an int array consisting of 0-95, inclusive\n",
    "            as_shifted_string = [b - ord(b'\\x20') for b in b''.join(allstrings)]\n",
    "            c = np.bincount(as_shifted_string, minlength=96)  # histogram count\n",
    "            # distribution of characters in printable strings\n",
    "            csum = c.sum()\n",
    "            p = c.astype(np.float32) / csum\n",
    "            wh = np.where(c)[0]\n",
    "            H = np.sum(-p[wh] * np.log2(p[wh]))  # entropy\n",
    "        else:\n",
    "            avlength = 0\n",
    "            c = np.zeros((96,), dtype=np.float32)\n",
    "            H = 0\n",
    "            csum = 0\n",
    "\n",
    "        return {\n",
    "            'numstrings': len(allstrings),\n",
    "            'avlength': avlength,\n",
    "            'printabledist': c.tolist(),  # store non-normalized histogram\n",
    "            'printables': int(csum),\n",
    "            'entropy': float(H),\n",
    "            'paths': len(self._paths.findall(bytez)),\n",
    "            'urls': len(self._urls.findall(bytez)),\n",
    "            'registry': len(self._registry.findall(bytez)),\n",
    "            'MZ': len(self._mz.findall(bytez))\n",
    "        }\n",
    "\n",
    "    def process_raw_features(self, raw_obj):\n",
    "        hist_divisor = float(raw_obj['printables']) if raw_obj['printables'] > 0 else 1.0\n",
    "        return np.hstack([\n",
    "            raw_obj['numstrings'], raw_obj['avlength'], raw_obj['printables'],\n",
    "            np.asarray(raw_obj['printabledist']) / hist_divisor, raw_obj['entropy'], raw_obj['paths'], raw_obj['urls'],\n",
    "            raw_obj['registry'], raw_obj['MZ']\n",
    "        ]).astype(np.float32)\n"
   ]
  },
  {
   "cell_type": "code",
   "execution_count": 55,
   "metadata": {},
   "outputs": [
    {
     "name": "stdout",
     "output_type": "stream",
     "text": [
      "Processed file 0\n",
      "Processed file 1\n",
      "Processed file 2\n",
      "Processed file 3\n",
      "Processed file 4\n",
      "Processed file 5\n",
      "Processed file 6\n",
      "Processed file 7\n",
      "Processed file 8\n",
      "Processed file 9\n",
      "Processed file 10\n",
      "Processed file 11\n",
      "Processed file 12\n",
      "Processed file 13\n",
      "Processed file 14\n",
      "Processed file 15\n",
      "Processed file 16\n",
      "Processed file 17\n",
      "Processed file 18\n",
      "Processed file 19\n",
      "Processed file 20\n",
      "Processed file 21\n",
      "Processed file 22\n",
      "Processed file 23\n",
      "Processed file 24\n",
      "Processed file 25\n",
      "Processed file 26\n",
      "Processed file 27\n",
      "Processed file 28\n",
      "Processed file 29\n",
      "Processed file 30\n",
      "Processed file 31\n",
      "Processed file 32\n",
      "Processed file 33\n",
      "Processed file 34\n",
      "Processed file 35\n",
      "Processed file 36\n",
      "Processed file 37\n",
      "Processed file 38\n",
      "Processed file 39\n",
      "Processed file 40\n",
      "Processed file 41\n",
      "Processed file 42\n",
      "Processed file 43\n",
      "Processed file 44\n",
      "Processed file 45\n",
      "Processed file 46\n",
      "Processed file 47\n",
      "Processed file 48\n",
      "Processed file 49\n",
      "Processed file 50\n",
      "Processed file 51\n",
      "Processed file 52\n",
      "Processed file 53\n",
      "Processed file 54\n",
      "Processed file 55\n",
      "Processed file 56\n",
      "Processed file 57\n",
      "Processed file 58\n",
      "Processed file 59\n",
      "Processed file 60\n",
      "Processed file 61\n",
      "Processed file 62\n",
      "Processed file 63\n",
      "Processed file 64\n",
      "Processed file 65\n",
      "Processed file 66\n",
      "Processed file 67\n",
      "Processed file 68\n",
      "Processed file 69\n",
      "Processed file 70\n",
      "Processed file 71\n",
      "Processed file 72\n",
      "Processed file 73\n",
      "Processed file 74\n",
      "Processed file 75\n",
      "Processed file 76\n",
      "Processed file 77\n",
      "Processed file 78\n",
      "Processed file 79\n",
      "Processed file 80\n",
      "Processed file 81\n",
      "Processed file 82\n",
      "Processed file 83\n",
      "Processed file 84\n",
      "Processed file 85\n",
      "Processed file 86\n",
      "Processed file 87\n",
      "Processed file 88\n",
      "Processed file 89\n",
      "Processed file 90\n",
      "Processed file 91\n",
      "Processed file 92\n",
      "Processed file 93\n",
      "Processed file 94\n",
      "Processed file 95\n",
      "Processed file 96\n",
      "Processed file 97\n",
      "Processed file 98\n",
      "Processed file 99\n",
      "Processed file 100\n",
      "Processed file 101\n",
      "Processed file 102\n",
      "Processed file 103\n",
      "Processed file 104\n",
      "Processed file 105\n",
      "Processed file 106\n",
      "Processed file 107\n",
      "Processed file 108\n",
      "Processed file 109\n",
      "Processed file 110\n",
      "Processed file 111\n",
      "Processed file 112\n",
      "Processed file 113\n",
      "Processed file 114\n",
      "Processed file 115\n",
      "Processed file 116\n",
      "Processed file 117\n",
      "Processed file 118\n",
      "Processed file 119\n",
      "Processed file 120\n",
      "Processed file 121\n",
      "Processed file 122\n",
      "Processed file 123\n",
      "Processed file 124\n",
      "Processed file 125\n",
      "Processed file 126\n",
      "Processed file 127\n",
      "Processed file 128\n",
      "Processed file 129\n",
      "Processed file 130\n",
      "Processed file 131\n",
      "Processed file 132\n",
      "Processed file 133\n"
     ]
    }
   ],
   "source": [
    "all_features = []\n",
    "extractor = StringExtractor()\n",
    "for i, (Id, Class) in enumerate(data):\n",
    "    print(\"Processed file {}\".format(i))\n",
    "    file = datadir + traindir + Id[1:-1].decode(\"utf-8\") + asmext\n",
    "    with open(file, 'rb') as f:\n",
    "        bytez = f.read()\n",
    "        f.close()\n",
    "    features = extractor.raw_features(bytez, None)\n",
    "    all_features.append(extractor.process_raw_features(features))\n",
    "\n",
    "string_features = np.array(all_features)"
   ]
  },
  {
   "cell_type": "code",
   "execution_count": 56,
   "metadata": {},
   "outputs": [
    {
     "data": {
      "text/plain": [
       "(134, 10108)"
      ]
     },
     "execution_count": 56,
     "metadata": {},
     "output_type": "execute_result"
    }
   ],
   "source": [
    "X = np.append(X, string_features, axis = 1)\n",
    "X.shape"
   ]
  },
  {
   "cell_type": "markdown",
   "metadata": {},
   "source": [
    "## Split into train and test"
   ]
  },
  {
   "cell_type": "code",
   "execution_count": 57,
   "metadata": {},
   "outputs": [
    {
     "name": "stdout",
     "output_type": "stream",
     "text": [
      "(107, 10108) (107,)\n",
      "(27, 10108) (27,)\n"
     ]
    }
   ],
   "source": [
    "X_train, X_test, y_train, y_test = train_test_split(X, y, test_size=0.2)\n",
    "print(X_train.shape, y_train.shape)\n",
    "print(X_test.shape, y_test.shape)"
   ]
  },
  {
   "cell_type": "markdown",
   "metadata": {},
   "source": [
    "## Run ExtraTreesClassifier on the Dataset\n",
    "* The ExtraTreesClassifier is similar to RandomForestClassifier but cheaper to train from a computational point of view but can grow much bigger. We try this to get a quick overview of our results"
   ]
  },
  {
   "cell_type": "code",
   "execution_count": 58,
   "metadata": {},
   "outputs": [
    {
     "data": {
      "text/plain": [
       "ExtraTreesClassifier(bootstrap=False, class_weight=None, criterion='gini',\n",
       "           max_depth=None, max_features=None, max_leaf_nodes=None,\n",
       "           min_impurity_decrease=0.0, min_impurity_split=None,\n",
       "           min_samples_leaf=1, min_samples_split=9,\n",
       "           min_weight_fraction_leaf=0.0, n_estimators=2000, n_jobs=1,\n",
       "           oob_score=False, random_state=None, verbose=0, warm_start=False)"
      ]
     },
     "execution_count": 58,
     "metadata": {},
     "output_type": "execute_result"
    }
   ],
   "source": [
    "et_clf = ExtraTreesClassifier(n_estimators=2000, max_features=None, min_samples_leaf=1,\n",
    "        min_samples_split=9, n_jobs=1, criterion='gini')\n",
    "et_clf.fit(X_train, y_train)"
   ]
  },
  {
   "cell_type": "code",
   "execution_count": 61,
   "metadata": {},
   "outputs": [
    {
     "ename": "ValueError",
     "evalue": "y_true and y_pred contain different number of classes 9, 2. Please provide the true labels explicitly through the labels argument. Classes found in y_true: [1 2 3 4 5 6 7 8 9]",
     "output_type": "error",
     "traceback": [
      "\u001b[0;31m---------------------------------------------------------------------------\u001b[0m",
      "\u001b[0;31mValueError\u001b[0m                                Traceback (most recent call last)",
      "\u001b[0;32m<ipython-input-61-40a04fc92b7d>\u001b[0m in \u001b[0;36m<module>\u001b[0;34m()\u001b[0m\n\u001b[1;32m      1\u001b[0m \u001b[0my_prob\u001b[0m \u001b[0;34m=\u001b[0m \u001b[0met_clf\u001b[0m\u001b[0;34m.\u001b[0m\u001b[0mpredict_proba\u001b[0m\u001b[0;34m(\u001b[0m\u001b[0mX_test\u001b[0m\u001b[0;34m)\u001b[0m\u001b[0;34m\u001b[0m\u001b[0m\n\u001b[1;32m      2\u001b[0m \u001b[0my_pred\u001b[0m \u001b[0;34m=\u001b[0m \u001b[0met_clf\u001b[0m\u001b[0;34m.\u001b[0m\u001b[0mpredict\u001b[0m\u001b[0;34m(\u001b[0m\u001b[0mX_test\u001b[0m\u001b[0;34m)\u001b[0m\u001b[0;34m\u001b[0m\u001b[0m\n\u001b[0;32m----> 3\u001b[0;31m \u001b[0mprint\u001b[0m\u001b[0;34m(\u001b[0m\u001b[0;34m\"Logarithmic Loss: {}\"\u001b[0m\u001b[0;34m.\u001b[0m\u001b[0mformat\u001b[0m\u001b[0;34m(\u001b[0m\u001b[0mlog_loss\u001b[0m\u001b[0;34m(\u001b[0m\u001b[0my_test\u001b[0m\u001b[0;34m,\u001b[0m \u001b[0my_pred\u001b[0m\u001b[0;34m)\u001b[0m\u001b[0;34m)\u001b[0m\u001b[0;34m)\u001b[0m\u001b[0;34m\u001b[0m\u001b[0m\n\u001b[0m\u001b[1;32m      4\u001b[0m \u001b[0mprint\u001b[0m\u001b[0;34m(\u001b[0m\u001b[0;34m\"Predicted Probability using ExtraTreesClassifier: {}\"\u001b[0m\u001b[0;34m.\u001b[0m\u001b[0mformat\u001b[0m\u001b[0;34m(\u001b[0m\u001b[0my_prob\u001b[0m\u001b[0;34m)\u001b[0m\u001b[0;34m)\u001b[0m\u001b[0;34m\u001b[0m\u001b[0m\n",
      "\u001b[0;32m~/anaconda3/lib/python3.7/site-packages/sklearn/metrics/classification.py\u001b[0m in \u001b[0;36mlog_loss\u001b[0;34m(y_true, y_pred, eps, normalize, sample_weight, labels)\u001b[0m\n\u001b[1;32m   1684\u001b[0m                              \"y_true: {2}\".format(transformed_labels.shape[1],\n\u001b[1;32m   1685\u001b[0m                                                   \u001b[0my_pred\u001b[0m\u001b[0;34m.\u001b[0m\u001b[0mshape\u001b[0m\u001b[0;34m[\u001b[0m\u001b[0;36m1\u001b[0m\u001b[0;34m]\u001b[0m\u001b[0;34m,\u001b[0m\u001b[0;34m\u001b[0m\u001b[0m\n\u001b[0;32m-> 1686\u001b[0;31m                                                   lb.classes_))\n\u001b[0m\u001b[1;32m   1687\u001b[0m         \u001b[0;32melse\u001b[0m\u001b[0;34m:\u001b[0m\u001b[0;34m\u001b[0m\u001b[0m\n\u001b[1;32m   1688\u001b[0m             raise ValueError('The number of classes in labels is different '\n",
      "\u001b[0;31mValueError\u001b[0m: y_true and y_pred contain different number of classes 9, 2. Please provide the true labels explicitly through the labels argument. Classes found in y_true: [1 2 3 4 5 6 7 8 9]"
     ]
    }
   ],
   "source": [
    "y_prob = et_clf.predict_proba(X_test)\n",
    "y_pred = et_clf.predict(X_test)\n",
    "print(\"Logarithmic Loss: {}\".format(log_loss(y_test, y_prob)))\n",
    "print(\"Predicted Probability using ExtraTreesClassifier: {}\".format(y_prob))"
   ]
  },
  {
   "cell_type": "markdown",
   "metadata": {},
   "source": [
    "## Perform 5-fold cross validation"
   ]
  },
  {
   "cell_type": "code",
   "execution_count": 60,
   "metadata": {},
   "outputs": [
    {
     "name": "stdout",
     "output_type": "stream",
     "text": [
      "Cross-validated predictions:  [1 1 1 1 1 1 1 1 1 1 1 1 8 1 9 2 2 2 2 2 1 2 2 2 2 2 2 2 8 3 3 3 3 3 3 3 3\n",
      " 3 3 3 3 3 3 3 4 4 4 4 4 4 4 4 4 4 4 4 4 4 4 5 5 5 3 5 8 5 5 5 5 8 7 5 5 5\n",
      " 6 6 6 6 6 9 1 6 1 5 6 6 6 6 6 7 9 7 7 7 7 7 7 7 7 9 9 7 7 7 8 8 8 8 8 8 8\n",
      " 5 8 8 8 8 8 8 8 9 8 9 9 9 9 9 9 2 9 9 6 6 9 9]\n"
     ]
    }
   ],
   "source": [
    "y_pred = cross_val_predict(et_clf, X, y, cv=5)\n",
    "print('Cross-validated predictions: ', y_pred)"
   ]
  },
  {
   "cell_type": "code",
   "execution_count": 62,
   "metadata": {},
   "outputs": [
    {
     "name": "stdout",
     "output_type": "stream",
     "text": [
      "Cross-validated accuracy scores:  [0.92592593 0.88888889 0.81481481 0.77777778 0.88461538]\n",
      "Mean cross-validated accuracy scores:  0.8584045584045583\n"
     ]
    }
   ],
   "source": [
    "y_scores = cross_val_score(et_clf, X, y, cv=5, scoring='accuracy')\n",
    "print('Cross-validated accuracy scores: ', y_scores)\n",
    "print('Mean cross-validated accuracy scores: ', y_scores.mean())"
   ]
  },
  {
   "cell_type": "code",
   "execution_count": null,
   "metadata": {},
   "outputs": [],
   "source": []
  }
 ],
 "metadata": {
  "kernelspec": {
   "display_name": "Python 3",
   "language": "python",
   "name": "python3"
  },
  "language_info": {
   "codemirror_mode": {
    "name": "ipython",
    "version": 3
   },
   "file_extension": ".py",
   "mimetype": "text/x-python",
   "name": "python",
   "nbconvert_exporter": "python",
   "pygments_lexer": "ipython3",
   "version": "3.6.6"
  }
 },
 "nbformat": 4,
 "nbformat_minor": 2
}
